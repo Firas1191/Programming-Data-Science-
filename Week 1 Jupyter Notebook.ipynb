{
 "cells": [
  {
   "cell_type": "markdown",
   "metadata": {},
   "source": [
    "# UFCFVQ-15-M Programming for Data Science\n",
    "# Week 1 Jupyter Notebook\n",
    "This notebook has been created to familiarise you with the Jupyter interface, basic functionality and to allow you to explore some of its capabilities through a brief overview of each week's workshop topics. Most of the code needed to progress through this Notebook has been provided for you. However, there are several coding tasks that you will need to complete yourself by entering code yourself. Don't worry instructions will be given on what to do."
   ]
  },
  {
   "cell_type": "markdown",
   "metadata": {},
   "source": [
    "## Getting started\n",
    "First and foremost, the Jupyter Notebook is an interactive environment for writing and running code. The notebook is capable of running code in a wide range of languages. However, each notebook is associated with a single kernel.  This notebook is associated with the Python 3 kernel, therefore runs Python 3 code. \n",
    "\n",
    "### Basic syntax for statements \n",
    "The basic rules for writing simple statments and expressions in Python are:\n",
    "* No spaces or tab characters allowed at the start of a statement. However, indentation plays a special role in Python. For now simply ensure that all statements start at the beginning of the line.\n",
    "* The '#' character indicates that the rest of the line is a comment\n",
    "* Statements finish at the end of the line, except when there is an open bracket or paranthesis:"
   ]
  },
  {
   "cell_type": "markdown",
   "metadata": {},
   "source": [
    "### Code cells allow you to enter and run code\n",
    "The Jupyter Notebook system intersperses text (like this) with code cells. The Python statements in these code cells can be executed from right inside the Notebook. Try typing <code>print(\"Hello World!\")</code> into the cell (box) below and the press the <button class='btn btn-default btn-xs'><i class=\"icon-step-forward fa fa-play\"></i> Run</button> button above to execute it."
   ]
  },
  {
   "cell_type": "code",
   "execution_count": null,
   "metadata": {},
   "outputs": [],
   "source": [
    "# This is a code comment and is ignored by the Python kernal. \n",
    "# Add your python code below and execute the cell contents\n"
   ]
  },
  {
   "cell_type": "markdown",
   "metadata": {},
   "source": [
    "There are two other keyboard shortcuts for running code:\n",
    "\n",
    "* `Shift-Enter` runs the current cell and selects the next cell.\n",
    "* `Alt-Enter` runs the current cell and inserts a new one below.\n",
    "* `Ctrl-Enter` runs the current cell."
   ]
  },
  {
   "cell_type": "markdown",
   "metadata": {},
   "source": [
    "## Videos, Images and Links\n",
    "### Videos\n",
    "It is possible to embed YouTube videos within a Jupyter Notebook. Click the image below to watch the YouTube video.\n",
    "\n",
    "[![The Most Important Skills of Data Scientists](https://i.imgur.com/gSRrz2L.png)](https://youtu.be/qrhRfPY4F4w?t=13)"
   ]
  },
  {
   "cell_type": "markdown",
   "metadata": {},
   "source": [
    "### Images\n",
    "As part of an explanation within a Jupyter Notebook it might be useful to be able to include an image. Below is an example of an embedded image:\n",
    "![Data Science Venn Diagram](https://i.imgur.com/Arewkx1.png)"
   ]
  },
  {
   "cell_type": "markdown",
   "metadata": {},
   "source": [
    "### Links\n",
    "\n",
    "It is also possible to include web links within a Jupyter Notebook. Below is a list of all the links included in this week's worksheet:\n",
    "\n",
    "* [Getting started with Visual Studio Code](https://code.visualstudio.com/docs/introvideos/basics)\n",
    "* [Getting Started with Python in VS Code](https://code.visualstudio.com/docs/python/python-tutorial)\n",
    "* [Anaconda Installation and User Guide](https://docs.anaconda.com/anaconda/)\n",
    "* [Jupyter Notebook Documentation](https://jupyter-notebook.readthedocs.io/en/stable/)\n",
    "* [GIT Documentation](https://git-scm.com/doc)\n",
    "* [Extensive GIT tutorial](https://www.vogella.com/tutorials/Git/article.html)\n",
    "* [Git Essentials Training Lynda.com course](https://www.lynda.com/Git-tutorials/Git-Essential-Training-Basics-REVISION-2019-Q1/5030978-2.html)\n",
    "* [Google Colab](https://colab.research.google.com)"
   ]
  },
  {
   "cell_type": "markdown",
   "metadata": {},
   "source": [
    "## Accessing documentation\n",
    "There are several ways to access Python documentation from within a Jupyter Notebook. Firstly, you can access documentation about the Notebook system as well as the Python language and some common Python libraries in the menu above. Below are two approaches to accessing documentation about individual functions that you may want to use in your Python code.\n",
    "\n",
    "### Using help()\n",
    "Python has a built-in <code>help()</code> function which can be used to quickly access information about a given function. This information will be printed inline. Try typing <code>help(help)</code> into the code cell below and executing it"
   ]
  },
  {
   "cell_type": "code",
   "execution_count": null,
   "metadata": {},
   "outputs": [],
   "source": [
    "# Add your python code below and execute the cell contents\n"
   ]
  },
  {
   "cell_type": "markdown",
   "metadata": {},
   "source": [
    "### Using ?\n",
    "There is an even quicker way to access help documention by using the tagging a question mark to the end of the function. This approach has the advantage of making the information available at the bottom of the display rather than inline. Try typing <code>help?</code> below before executing the cell contents."
   ]
  },
  {
   "cell_type": "code",
   "execution_count": null,
   "metadata": {},
   "outputs": [],
   "source": [
    "# Add your python code below and execute the cell contents\n"
   ]
  },
  {
   "cell_type": "markdown",
   "metadata": {},
   "source": [
    "## Saving your progress\n",
    "As you work through a Notebook you may wish to save your progress. To do this, you can either use the keyboard shortcut `Ctrl-S`, click the <button class='btn btn-default btn-xs'><i class=\"icon-step-forward fa fa-floppy-o\"></i></button> icon above or access this ***File*** menu and select ***Save and Checkpoint***. \n",
    "\n",
    "NOTE: a checkpoint file is created/updated whenever you save your Notebook. This provides a way to revert any change to the last checkpoint. To revert you should access the ***File*** menu and select ***Revert to Checkpoint***."
   ]
  },
  {
   "cell_type": "markdown",
   "metadata": {},
   "source": [
    "## Restarting the Kernel\n",
    "Sometimes it may become necessary to restart the Kernel. For instance, you might wish to start again afresh. A restart will reset any code cells that had been previously run. To do this, you can either click the <button class='btn btn-default btn-xs'><i class=\"icon-step-forward fa fa-repeat\"></i></button> or access the ***Kernel*** menu and select one of the restart options: \n",
    "* ***Restart*** - restart the kernel only\n",
    "* ***Restart and Clear Output*** - clear all existing output cells and restart the kernel\n",
    "* ***Restart and Run All***) - restart the kernel and run all code cells in the Notebook"
   ]
  },
  {
   "cell_type": "markdown",
   "metadata": {},
   "source": [
    "## Week 2 Preview - Variables and Data-Types\n",
    "In Week 2 we start our look at Python by introducing a fundamental aspect of any programming language - variables. In general, we could say a Python program is a simply a set of Python statements that read and/or write data. Variables are used for storing any data that we need in a program to achieve some goal. However, you need also to recognise that this data can come in many different forms such as numbers, strings, lists, objects, etc. This form is known as the variable's data-type. \n",
    "\n",
    "### Variables\n",
    "Variables are created by assigning a value to them. In Python, you do not need to explictly define what data-type a variable uses unlike other languages such as Java or C++. Python will implicitly decide this out by looking at the type of data that is being assigned. In fact, a Python variable's type can change during its lifetime by assigning a value of a different data type. However, you should avoid doing this as it can be confusing to anyone else reading your source code.\n",
    " \n",
    "The following code blocks should be executed to see how variables are implemented in Python. In the following example, an integer value is assigned to a new variable x."
   ]
  },
  {
   "cell_type": "code",
   "execution_count": null,
   "metadata": {},
   "outputs": [],
   "source": [
    "# The following code creates a new variable called x and sets its value to 5\n",
    "# Execute this code cell using the Shift-Enter shortcut\n",
    "x = 5"
   ]
  },
  {
   "cell_type": "code",
   "execution_count": null,
   "metadata": {},
   "outputs": [],
   "source": [
    "# The value of a variable is displayed by simply typing the variable's name. \n",
    "# NOTE: the variable is still active and maintains its value between code cells\n",
    "x"
   ]
  },
  {
   "cell_type": "code",
   "execution_count": null,
   "metadata": {},
   "outputs": [],
   "source": [
    "# You can also use print() to output a variables value too\n",
    "print(x)"
   ]
  },
  {
   "cell_type": "code",
   "execution_count": null,
   "metadata": {},
   "outputs": [],
   "source": [
    "# The variables value can be changed by using a mathematical expression\n",
    "x = x * 2\n",
    "\n"
   ]
  },
  {
   "cell_type": "markdown",
   "metadata": {},
   "source": [
    "### Data-Types\n",
    "Variables can store many different types of data including strings, floats, lists, tuples, sets, dictionaries and objects. We will cover all of these different options as we progress through the module. Here are some examples of these:"
   ]
  },
  {
   "cell_type": "code",
   "execution_count": null,
   "metadata": {},
   "outputs": [],
   "source": [
    "# A string variable\n",
    "aString = \"Dave Wyatt\" # using single or double quotes\n",
    "\n",
    "aString"
   ]
  },
  {
   "cell_type": "code",
   "execution_count": null,
   "metadata": {},
   "outputs": [],
   "source": [
    "# A float variable\n",
    "aFloat=3.1415\n",
    "\n",
    "aFloat"
   ]
  },
  {
   "cell_type": "code",
   "execution_count": null,
   "metadata": {},
   "outputs": [],
   "source": [
    "# A List\n",
    "aList = [1,2,3,4,5]\n",
    "\n",
    "aList"
   ]
  },
  {
   "cell_type": "code",
   "execution_count": null,
   "metadata": {},
   "outputs": [],
   "source": [
    "# a tuple\n",
    "aTuple = (1,2,3,4,5)\n",
    "\n",
    "aTuple"
   ]
  },
  {
   "cell_type": "code",
   "execution_count": null,
   "metadata": {},
   "outputs": [],
   "source": [
    "# a set\n",
    "aSet = {1,2,3,4,5}\n",
    "\n",
    "aSet"
   ]
  },
  {
   "cell_type": "code",
   "execution_count": null,
   "metadata": {},
   "outputs": [],
   "source": [
    "# a dictionary which contains all of the data from the previous examples\n",
    "aDictionary = {\n",
    "    'intData':5,\n",
    "    'stringData':'Dave Wyatt',\n",
    "    'floatData':3.1415,\n",
    "    'listData':[1,2,3,4,5],\n",
    "    'tupleData':(1,2,3,4,5),\n",
    "    'setData':{1,2,3,4,5}\n",
    "}\n",
    "\n",
    "aDictionary['intData'] # access the value of the key 'intData'"
   ]
  },
  {
   "cell_type": "markdown",
   "metadata": {},
   "source": [
    "## Week 3 Preview - Conditionals and Loops\n",
    "In Week 3, we look at flow control statements. Think of an algorithm as a sequence of Python statements. These are executed one line of code at a time. However, the flow of the program can be altered using conditional statements and loops. The key thing to note about Python's flow control statements and program structure is that it uses *indentation* to mark blocks. Hence, the amount of white space at the start of a line is very important. This generally helps to make code more readable but can catch out new users of Python.\n",
    "\n",
    "### Conditional Statements\n",
    "There are three kinds of conditional statement: *if*, *if-else* and *if-elif-else*.\n",
    "\n",
    "#### *if* statement\n",
    "The code following the *if* statement is executed if some condition is satisfied. \n",
    "\n",
    "In the following example, the print statement is executed if the value of x is larger than 10 otherwise nothing happens. Execute the code cell to validate this. Now, try changing the initial value of x to 10 to see what happens. Nothing, right?"
   ]
  },
  {
   "cell_type": "code",
   "execution_count": null,
   "metadata": {},
   "outputs": [],
   "source": [
    "# An example code snippet using an if statement. \n",
    "x = 12\n",
    "if x > 10:\n",
    "    print(\"x is larger than 10\")  # note the indentation here\n",
    "    \n",
    "# NOTE the : at the end of the if statement is mandatory and the \n",
    "# indentation for the code block following the if statement"
   ]
  },
  {
   "cell_type": "markdown",
   "metadata": {},
   "source": [
    "#### *if-else* statement\n",
    "The code following the *if* statement is executed if some condition is satisfied otherwise the code following the *else* statement is executed. \n",
    "\n",
    "In the following example, the first print statement is executed if the value of x is less than 10 otherwise the second print statement is executed (i.e. the code following the *else* statement). Execute the code cell to validate this. Now, try changing the initial value of x to 9 to see what happens."
   ]
  },
  {
   "cell_type": "code",
   "execution_count": 32,
   "metadata": {},
   "outputs": [
    {
     "name": "stdout",
     "output_type": "stream",
     "text": [
      "x is greater than or equal to 10\n"
     ]
    }
   ],
   "source": [
    "# An example code snippet using an if-else statement. \n",
    "x = 12\n",
    "if x < 10:\n",
    "    print(\"x is smaller than 10\")\n",
    "else:\n",
    "    print(\"x is greater than or equal to 10\")\n",
    "    \n",
    "# NOTE the : at the end of the if and else statements are mandatory"
   ]
  },
  {
   "cell_type": "markdown",
   "metadata": {},
   "source": [
    "#### *if-elif-else* statement\n",
    "The code following the *if* statement is executed if some condition is satisfied else if the condition following the *elif* statement is satisified the code following this statement is executed otherwise the code following the *else* statement is executed. In fact, you can add multiple *elif* statements to check multiple condition.\n",
    "\n",
    "In the following example, the first print statement is executed if the value of x is greater than y otherwise the second print statement is executed if x is smaller than y otherwise the final print statement is executed. Execute the code cell to validate this. Now, try changing the initial value of x to be smaller than y to see what happens. Finally, try setting x to be the same as y to see what happens."
   ]
  },
  {
   "cell_type": "code",
   "execution_count": null,
   "metadata": {},
   "outputs": [],
   "source": [
    "# An example code snippet using an if-elif-else statement. \n",
    "x = 10\n",
    "y = 12\n",
    "if x > y:\n",
    "    print(\"x if larger than y\")\n",
    "elif x < y:\n",
    "    print(\"x is smaller than y\")\n",
    "else:\n",
    "    print(\"x is equal to y\")\n",
    "\n",
    "# NOTE the : at the end of the if, elif and else statements are mandatory"
   ]
  },
  {
   "cell_type": "markdown",
   "metadata": {},
   "source": [
    "### Loops\n",
    "Occasionally, an algorithm requires a sequence of statements to be repeated or to continue while a specific condition is met. Python offers two basic loop commands for this: *for* and *while*.\n",
    "\n",
    "#### *for* statement\n",
    "A *for* loop is used for iterating over a collection of items. These collections include lists, arrays, tuples, sets and dictionaries. With the *for* loop a sequence of statements are executed once for each item in the collection. \n",
    "\n",
    "In the following example, the for loop is used to iterate over a list of fruits (stored as a Python list in the variable `fruits`). Execute the code in the cell to validate this. Now, try adding another fruit to the end of the list and validating it is included within the output generated when the code cell is executed."
   ]
  },
  {
   "cell_type": "code",
   "execution_count": null,
   "metadata": {},
   "outputs": [],
   "source": [
    "# An example code snippet that uses a for statement. \n",
    "fruits = [\"apple\", \"banana\", \"cherry\"] # this is a Python list with 3 strings\n",
    "for x in fruits:\n",
    "    print(x)\n",
    "    \n",
    "# NOTE the : at the end of the for statement is mandatory"
   ]
  },
  {
   "cell_type": "markdown",
   "metadata": {},
   "source": [
    "#### *while* statement\n",
    "A *while* loop is used for repeatedly executing a sequence of statements while a given condition remains true. Once the condition not longer holds the while ends and the next statement of code following the while loop is executed. With the *while* loop, a sequence of statements are executed once for each check to see if the conditional remains true.\n",
    "\n",
    "In the following example, the while loop is used to print a sequence of numbers between 1 and 5. Execute the code in the cell to validate this. Now, adjust the while loop to print the numbers between 1 and 10."
   ]
  },
  {
   "cell_type": "code",
   "execution_count": null,
   "metadata": {},
   "outputs": [],
   "source": [
    "# An example code snippet that uses a while statement. \n",
    "i = 1\n",
    "while i < 6:\n",
    "  print(i)\n",
    "  i = i + 1\n",
    "    \n",
    "# NOTE the : at the end of the while statement is mandatory"
   ]
  },
  {
   "cell_type": "markdown",
   "metadata": {},
   "source": [
    "## Week 4 Preview - Lists, Tuples, Sets and Dictionaries\n",
    "Week 4 focuses on the core Python data structures: List, Tuple, Set and Dictionary. All four data structures are used to hold multiple data elements and provide many options for accessing and updating any data stored in them. This concept of collecting data together into a single place (i.e. variable) is fundamental to your understanding how Python works and how you can make Python work for you when trying to reach data science goals.\n",
    "\n",
    "Each data structure has its strengths and it is part of a developers role to make a choice about which data structure should be used in a given situation. As you progress through the module you will encounter many more kinds of data structures. However, having a strong foundation in List, Tuples, Sets and Dictionaries will give you a head-start in understanding how some of these new kinds of data structure work. For instance, in Week 6 you will focus on the NumPy library. This library includes a data structure called Array which is similar in many ways to the List structure."
   ]
  },
  {
   "cell_type": "markdown",
   "metadata": {},
   "source": [
    "### Lists\n",
    "Lists are the most commonly used data structure. Think of it as a sequence of data that is enclosed in `[]` brackets and data are separated by a comma. Each element of a list can be accessed the position of the element within the list. \n",
    "\n",
    "#### Initialisation\n",
    "Lists are initialised using the assignment operator `=` followed by a sequence of comma-separated data elements placed inside `[]` brackets. Execute the code in the cell below to validate this."
   ]
  },
  {
   "cell_type": "code",
   "execution_count": 12,
   "metadata": {},
   "outputs": [
    {
     "data": {
      "text/plain": [
       "['Ford',\n",
       " 'BMW',\n",
       " 'Volkswagen',\n",
       " 'Audi',\n",
       " 'Kia',\n",
       " 'Nissan',\n",
       " 'Fiat',\n",
       " 'Hyundia',\n",
       " 'Toyota',\n",
       " 'Volvo']"
      ]
     },
     "execution_count": 12,
     "metadata": {},
     "output_type": "execute_result"
    }
   ],
   "source": [
    "# An example code snippet that creates a list of strings\n",
    "cars=['Ford','BMW','Volkswagen','Audi','Kia','Nissan','Fiat','Hyundia','Toyota','Volvo']\n",
    "\n",
    "cars"
   ]
  },
  {
   "cell_type": "markdown",
   "metadata": {},
   "source": [
    "#### Indexing\n",
    "Individual elements in the list can be accessed using an index value. In Python, indexing starts from 0. To access an element, you simply include the index value within square brackets. This means the first element in the `cars` list created above can be accessed using the following code:"
   ]
  },
  {
   "cell_type": "code",
   "execution_count": 14,
   "metadata": {},
   "outputs": [
    {
     "data": {
      "text/plain": [
       "'Audi'"
      ]
     },
     "execution_count": 14,
     "metadata": {},
     "output_type": "execute_result"
    }
   ],
   "source": [
    "# An example code snippet that uses indexing to access a list element\n",
    "cars[3]"
   ]
  },
  {
   "cell_type": "markdown",
   "metadata": {},
   "source": [
    "Now adjust the code above to output the 4th element in the list, i.e. `'Audi'`. More complex forms of list indexing are possible in Python but we will focus on these in detail during Week 3 of the module.\n",
    "\n",
    "#### Some Built- in Functions\n",
    "There are several built-in list functions to help you to manipulate their contents including `sort()`, `append()`, `clear()`, `copy()`, `count()`, `insert()`, `pop()` and `remove()`. Below, are just a few of these:\n",
    "\n",
    "##### `Sort()`\n",
    "The `sort()` function sorts a list in ascending order (by default). Execute the code in the cell below to validate this. In fact, you can change the ordering to descending by adding the parameter `reverse=True` to the function, i.e. `sort(reverse=True)`. Adjust the code to sort the `cars` list in descending order."
   ]
  },
  {
   "cell_type": "code",
   "execution_count": 15,
   "metadata": {},
   "outputs": [
    {
     "data": {
      "text/plain": [
       "['Audi',\n",
       " 'BMW',\n",
       " 'Fiat',\n",
       " 'Ford',\n",
       " 'Hyundia',\n",
       " 'Kia',\n",
       " 'Nissan',\n",
       " 'Toyota',\n",
       " 'Volkswagen',\n",
       " 'Volvo']"
      ]
     },
     "execution_count": 15,
     "metadata": {},
     "output_type": "execute_result"
    }
   ],
   "source": [
    "# An example code snippet that sorts a list in alphabetical order\n",
    "cars.sort()\n",
    "\n",
    "cars"
   ]
  },
  {
   "cell_type": "markdown",
   "metadata": {},
   "source": [
    "##### `Append()`\n",
    "The `append()` function allows you to add a new element to the end of the list. Execute the code in the cell to validate this."
   ]
  },
  {
   "cell_type": "code",
   "execution_count": 16,
   "metadata": {},
   "outputs": [
    {
     "data": {
      "text/plain": [
       "['Audi',\n",
       " 'BMW',\n",
       " 'Fiat',\n",
       " 'Ford',\n",
       " 'Hyundia',\n",
       " 'Kia',\n",
       " 'Nissan',\n",
       " 'Toyota',\n",
       " 'Volkswagen',\n",
       " 'Volvo',\n",
       " 'Porsche']"
      ]
     },
     "execution_count": 16,
     "metadata": {},
     "output_type": "execute_result"
    }
   ],
   "source": [
    "# An example code snippet that adds an element to the end of a list\n",
    "cars.append('Porsche')\n",
    "\n",
    "cars"
   ]
  },
  {
   "cell_type": "markdown",
   "metadata": {},
   "source": [
    "##### `Extend()`\n",
    "The `extend()` function allows you to add two lists together. Execute the code in the cell to validate this."
   ]
  },
  {
   "cell_type": "code",
   "execution_count": 17,
   "metadata": {},
   "outputs": [
    {
     "data": {
      "text/plain": [
       "['Audi',\n",
       " 'BMW',\n",
       " 'Fiat',\n",
       " 'Ford',\n",
       " 'Hyundia',\n",
       " 'Kia',\n",
       " 'Nissan',\n",
       " 'Toyota',\n",
       " 'Volkswagen',\n",
       " 'Volvo',\n",
       " 'Porsche',\n",
       " 'Rolls Royce',\n",
       " 'Tesla',\n",
       " 'Mercedes-Benz']"
      ]
     },
     "execution_count": 17,
     "metadata": {},
     "output_type": "execute_result"
    }
   ],
   "source": [
    "# An example code snippet that two lists together\n",
    "luxury_cars = ['Rolls Royce','Tesla','Mercedes-Benz']\n",
    "cars.extend(luxury_cars)\n",
    "\n",
    "cars"
   ]
  },
  {
   "cell_type": "markdown",
   "metadata": {},
   "source": [
    "#### List Comprehensions\n",
    "A very powerful concept in Python (that also applies to Tuples, Sets and Dictionaries), is the ability to define lists using a list comprehension (looping) expression. It makes use of the `for` loop introduced in Week 2.  In general. list comprehensions take the form of `[<expression> for <variable> in <List>]`. Essentially, a new list is constructed by taking each element of the given `<List>` in turn, assigning it to the `<variable>` and then evaluating the `<expression>` using the value assigned to the `<variable>`.\n",
    "\n",
    "In the following example, each string is the cars list is converted to an upper case string. Execute the code in the cell to validate this. Now, adjust the expression to use the `lower()` function. What happens?"
   ]
  },
  {
   "cell_type": "code",
   "execution_count": 18,
   "metadata": {},
   "outputs": [
    {
     "data": {
      "text/plain": [
       "['AUDI',\n",
       " 'BMW',\n",
       " 'FIAT',\n",
       " 'FORD',\n",
       " 'HYUNDIA',\n",
       " 'KIA',\n",
       " 'NISSAN',\n",
       " 'TOYOTA',\n",
       " 'VOLKSWAGEN',\n",
       " 'VOLVO',\n",
       " 'PORSCHE',\n",
       " 'ROLLS ROYCE',\n",
       " 'TESLA',\n",
       " 'MERCEDES-BENZ']"
      ]
     },
     "execution_count": 18,
     "metadata": {},
     "output_type": "execute_result"
    }
   ],
   "source": [
    "# An example code snippet that creates a new list using list comprehension\n",
    "[str.upper() for str in cars]"
   ]
  },
  {
   "cell_type": "markdown",
   "metadata": {},
   "source": [
    "### Tuples\n",
    "Tuples are similar to Lists, in that you can store an ordered collection of objects values in a single variable. However, the key difference between tuples and lists is that tuples are immutable, i.e. they cannot change once initialised. In addtion, tuples use `()` brackets (instead of `[]` brackets) to define their elements. Two good reasons to use a tuples over lists to store data are:\n",
    "1. Due to their immutable nature, tuples are faster to access than lists\n",
    "2. Tuples can lead to safer code by effectively 'write-protecting' data\n",
    "\n",
    "In the following example, the origin is defined in 3-D space and then an attempt to change is x value is made using the `[]` indexing syntax. This results in a `'tuple' object does not support item assignment` error. Execute the code in the cell to validate this. Now, remove the second line from the code snippet and re-execute the code cell. What happens?"
   ]
  },
  {
   "cell_type": "code",
   "execution_count": 19,
   "metadata": {},
   "outputs": [
    {
     "ename": "TypeError",
     "evalue": "'tuple' object does not support item assignment",
     "output_type": "error",
     "traceback": [
      "\u001b[0;31m---------------------------------------------------------------------------\u001b[0m",
      "\u001b[0;31mTypeError\u001b[0m                                 Traceback (most recent call last)",
      "\u001b[0;32m<ipython-input-19-c5bf4335eab1>\u001b[0m in \u001b[0;36m<module>\u001b[0;34m\u001b[0m\n\u001b[1;32m      1\u001b[0m \u001b[0;31m# An example code snippet that demonstrates the immutable nature of tuples\u001b[0m\u001b[0;34m\u001b[0m\u001b[0;34m\u001b[0m\u001b[0;34m\u001b[0m\u001b[0m\n\u001b[1;32m      2\u001b[0m \u001b[0morigin\u001b[0m\u001b[0;34m=\u001b[0m\u001b[0;34m(\u001b[0m\u001b[0;36m0.0\u001b[0m\u001b[0;34m,\u001b[0m\u001b[0;36m0.0\u001b[0m\u001b[0;34m,\u001b[0m\u001b[0;36m0.0\u001b[0m\u001b[0;34m)\u001b[0m\u001b[0;34m\u001b[0m\u001b[0;34m\u001b[0m\u001b[0m\n\u001b[0;32m----> 3\u001b[0;31m \u001b[0morigin\u001b[0m\u001b[0;34m[\u001b[0m\u001b[0;36m0\u001b[0m\u001b[0;34m]\u001b[0m\u001b[0;34m=\u001b[0m\u001b[0;36m1.0\u001b[0m\u001b[0;34m\u001b[0m\u001b[0;34m\u001b[0m\u001b[0m\n\u001b[0m\u001b[1;32m      4\u001b[0m \u001b[0;34m\u001b[0m\u001b[0m\n\u001b[1;32m      5\u001b[0m \u001b[0morigin\u001b[0m\u001b[0;34m[\u001b[0m\u001b[0;36m0\u001b[0m\u001b[0;34m]\u001b[0m\u001b[0;34m\u001b[0m\u001b[0;34m\u001b[0m\u001b[0m\n",
      "\u001b[0;31mTypeError\u001b[0m: 'tuple' object does not support item assignment"
     ]
    }
   ],
   "source": [
    "# An example code snippet that demonstrates the immutable nature of tuples\n",
    "origin=(0.0,0.0,0.0)\n",
    "origin[0]=1.0\n",
    "\n",
    "origin[0]"
   ]
  },
  {
   "cell_type": "markdown",
   "metadata": {},
   "source": [
    "#### Built-in Functions\n",
    "There are two built-in `tuple` functions: `count()` and `index()`.\n",
    "##### `count()`\n",
    "The `count()` function returns the number of times a value appears in the tuple. \n",
    "\n",
    "In the following example, a tuple is created with a list of integer values and a count is made for the number of times 5 appears in the tuple. Execute the code in the cell to validate there are two 5s in the tuple. Now, adjust the code to count the number of 7s in the tuple. What happens?"
   ]
  },
  {
   "cell_type": "code",
   "execution_count": 20,
   "metadata": {},
   "outputs": [
    {
     "data": {
      "text/plain": [
       "2"
      ]
     },
     "execution_count": 20,
     "metadata": {},
     "output_type": "execute_result"
    }
   ],
   "source": [
    "# An example code snippet that counts the number of occurances of some value\n",
    "some_numbers = (1, 3, 7, 8, 7, 5, 4, 6, 8, 5)\n",
    "some_numbers.count(5)"
   ]
  },
  {
   "cell_type": "markdown",
   "metadata": {},
   "source": [
    "##### `index()`\n",
    "The `index()` function returns the index position of the first occurance of the supplied value. \n",
    "\n",
    "In the following example, a tuple is created with a list of names (some of which are repeated) and the prints the first occurrance of the name `'Dave'`. Execute the code in the cell to validate this. Now, adjust the code to find the index of the first occurance of the name `'John'`."
   ]
  },
  {
   "cell_type": "code",
   "execution_count": 21,
   "metadata": {},
   "outputs": [
    {
     "data": {
      "text/plain": [
       "5"
      ]
     },
     "execution_count": 21,
     "metadata": {},
     "output_type": "execute_result"
    }
   ],
   "source": [
    "# An example code snippet that finds the index of the first occurance of an element value\n",
    "names=('Pete','Lindsey','John','Fay','Mohammed','Dave','Mohammed','John','Pete','Dave')\n",
    "names.index('Dave')"
   ]
  },
  {
   "cell_type": "markdown",
   "metadata": {},
   "source": []
  },
  {
   "cell_type": "markdown",
   "metadata": {},
   "source": [
    "### Sets\n",
    "Sets are another kind of collection of elements (similar to lists) except they are *unordered*, *unindexed*, *unchangeble* and does not include duplicate values. There are two functions that allow you to add and remove elements from a set, i.e `add()` and `remove()`, but you cannot change an existing items within the set. In addition, you can access set elements directly using the `[]` brackets as you can with tuples and lists.\n",
    "\n",
    "#### Initialise\n",
    "Sets are initialised using the assignment operator `=` followed by a sequence of comma-separated data elements placed inside `{}` brackets. Execute the code in the cell below to validate this. Now, try adding a duplicate animal to the set. What happens?"
   ]
  },
  {
   "cell_type": "code",
   "execution_count": 25,
   "metadata": {},
   "outputs": [
    {
     "data": {
      "text/plain": [
       "{'Bird', 'Cat', 'Dog', 'Human', 'Monkey', 'Rabbit', 'Whale'}"
      ]
     },
     "execution_count": 25,
     "metadata": {},
     "output_type": "execute_result"
    }
   ],
   "source": [
    "# An example code snippet that creates a set\n",
    "set_of_animals={'Dog','Cat','Bird','Whale','Human','Monkey','Rabbit'}\n",
    "\n",
    "set_of_animals"
   ]
  },
  {
   "cell_type": "markdown",
   "metadata": {},
   "source": [
    "#### Accessing Set Elements\n",
    "There are two ways that you can access the elements of a set. The first way is to loop through the contents of the set. Execute the code cell below to validate this."
   ]
  },
  {
   "cell_type": "code",
   "execution_count": 27,
   "metadata": {},
   "outputs": [
    {
     "name": "stdout",
     "output_type": "stream",
     "text": [
      "Dog\n",
      "Cat\n",
      "Monkey\n",
      "Rabbit\n",
      "Bird\n",
      "Whale\n",
      "Human\n"
     ]
    }
   ],
   "source": [
    "# iterate through the set contents and print the value of each element\n",
    "for x in set_of_animals:\n",
    "    print(x)"
   ]
  },
  {
   "cell_type": "markdown",
   "metadata": {},
   "source": [
    "The second way is to check if a specified value exists in the set. Execute the code cell below to see if the elements `'Dog'` is in the set. Now, change the animal to one that does not exist in the set and try executing the code cell again."
   ]
  },
  {
   "cell_type": "code",
   "execution_count": 28,
   "metadata": {},
   "outputs": [
    {
     "data": {
      "text/plain": [
       "False"
      ]
     },
     "execution_count": 28,
     "metadata": {},
     "output_type": "execute_result"
    }
   ],
   "source": [
    "# check if a specified value exists in the set. True indicates it does.\n",
    "'Hours' in set_of_animals"
   ]
  },
  {
   "cell_type": "markdown",
   "metadata": {},
   "source": [
    "#### Adding and Removing Elements\n",
    "It is easy to add and remove elements from the set using the `add()` and `remove()` functions. The `add()` function requires you to specify a value to add to the set. The following example, adds a new animal to the `set_of_animals` set created above. Also, try adding an existing animal to the set. What happens?"
   ]
  },
  {
   "cell_type": "code",
   "execution_count": null,
   "metadata": {},
   "outputs": [],
   "source": [
    "# add a new element to the set\n",
    "set_of_animals.add('Tiger')\n",
    "\n",
    "set_of_animals"
   ]
  },
  {
   "cell_type": "markdown",
   "metadata": {},
   "source": [
    "The `remove()` function requires you to specify a value to remove from the set. The following example, removes the `'Human'` element from the `set_of_animals` set created above. Also, try removing an animal that is not in the set. What happens?"
   ]
  },
  {
   "cell_type": "code",
   "execution_count": null,
   "metadata": {},
   "outputs": [],
   "source": [
    "# remove the element 'Human' from the set\n",
    "set_of_animals.remove('Human')\n",
    "\n",
    "set_of_animals"
   ]
  },
  {
   "cell_type": "markdown",
   "metadata": {},
   "source": [
    "### Dictionaries\n",
    "Dictionaries are used to store key:value pairs. This means that a Python dictionary is made up of multiple elements each of which has a key and corresponding value. Think of it like an English dictionary in which each word acts as key and the correspnding defintion acts as its value. Python dictionaries are *unordered* and do not permit duplicate values.\n",
    "\n",
    "#### Initialise\n",
    "Dictionaries can be initialised using the assignment operator `=` followed by a sequence of comma-separated key:value data elements placed inside `{}` brackets. Execute the code in the cell below to validate this. Now, try adding a new key:value pair to the dictionary."
   ]
  },
  {
   "cell_type": "code",
   "execution_count": 1,
   "metadata": {},
   "outputs": [
    {
     "data": {
      "text/plain": [
       "{'brand': 'Ford', 'model': 'Mustang', 'year': 1964}"
      ]
     },
     "execution_count": 1,
     "metadata": {},
     "output_type": "execute_result"
    }
   ],
   "source": [
    "# An example code snippet that creates a dictionary\n",
    "car_brand_model = {\n",
    "  \"brand\": \"Ford\",\n",
    "  \"model\": \"Mustang\",\n",
    "  \"year\": 1964\n",
    "}\n",
    "\n",
    "car_brand_model"
   ]
  },
  {
   "cell_type": "markdown",
   "metadata": {},
   "source": [
    "#### Accessing Dictionary Elements\n",
    "There are two ways that you can access the value of a given key. The first way is to use the `[]` brackets into which the required key is placed. Execute the code cell below to validate this. Now, try to access a different key's value."
   ]
  },
  {
   "cell_type": "code",
   "execution_count": 29,
   "metadata": {},
   "outputs": [
    {
     "data": {
      "text/plain": [
       "'Ford'"
      ]
     },
     "execution_count": 29,
     "metadata": {},
     "output_type": "execute_result"
    }
   ],
   "source": [
    "car_brand_model[\"brand\"]"
   ]
  },
  {
   "cell_type": "markdown",
   "metadata": {},
   "source": [
    "The second way is to use the `get()` function. Execute the code cell to validate that it gives the same result as above."
   ]
  },
  {
   "cell_type": "code",
   "execution_count": 30,
   "metadata": {},
   "outputs": [
    {
     "data": {
      "text/plain": [
       "'Ford'"
      ]
     },
     "execution_count": 30,
     "metadata": {},
     "output_type": "execute_result"
    }
   ],
   "source": [
    "car_brand_model.get(\"brand\")"
   ]
  },
  {
   "cell_type": "markdown",
   "metadata": {},
   "source": [
    "#### Adding Elements\n",
    "To add a new key:value pair to the dictionary you need use a combination of the `[]` operator and assignment `=` operator, as follows: `<dictionary>[<key>]=<value>`. The following example adds the new key:value pair, `'colour':'Red'`, to the `car_brand_model` dictionary. Try changing the colour to `'Blue'`. What happens?"
   ]
  },
  {
   "cell_type": "code",
   "execution_count": null,
   "metadata": {},
   "outputs": [],
   "source": [
    "car_brand_model['colour']='Red'\n",
    "\n",
    "car_brand_model"
   ]
  },
  {
   "cell_type": "markdown",
   "metadata": {},
   "source": [
    "#### Removing Elements\n",
    "To remove a given key:value pair from the dictionary, you should use the `pop()` function. This function requires only the key to remove the pair from the dictionary. The following example removes the key:value pair, `'year':1964` from the `car_brand_model` dictionary. Try removing another key:value pair."
   ]
  },
  {
   "cell_type": "code",
   "execution_count": null,
   "metadata": {},
   "outputs": [],
   "source": [
    "car_brand_model.pop('year')\n",
    "\n",
    "car_brand_model"
   ]
  },
  {
   "cell_type": "markdown",
   "metadata": {},
   "source": [
    "## Week 5 Preview - Problem Solving and Functions\n",
    "Week 5 focuses on building algorithmic solutions to programming problems and introduces functions as a solution to help with this process. Weeks 2-4 introduce the fundamental features of the Python programming language and focus very much on practical experience of using these features. In Week 5 we will bring these features together to start solving realistic and relevant programming problems.\n",
    "\n",
    "### Problem Solving\n",
    "Structured programming is a method of programming designed to help make large programs easier to read. It is aimed at improving the clarity, quality, and development time of a computer program by making extensive use of the structured control flow constructs. Python programs are composed of one or more of the following structures: Sequences, Selection and Iteration. Sequences are simply a group of python statements which are executed in sequence. Selections are choices that can be added to a program to execute sequences dependent upon some condition, e.g. if x = 5 then perform sequence A otherwise perform sequence B. Finally, iterations are sequences of statements that are repeated multiple times.\n",
    "\n",
    "The main idea behind structured programming is to divide and conquer. As computers, technology, and software have advanced, programs have become larger and more difficult to write and maintain. Structured programming breaks down complex programs into simple tasks. The rule of thumb is that if a task is too complex to be described simply, then the task needs to be broken down further. When the task is small enough to be self contained and easily understood , then the task can be programmed. Structured programming gave rise to a number of other movements, Object-Oriented Programming being one of the more important ones. We will look at this in Week 9 of the module."
   ]
  },
  {
   "cell_type": "markdown",
   "metadata": {},
   "source": [
    "### Functions\n",
    "A function is a self-contained sequence of program statements that accomplishes a specific task. Functions help to give structure to your programs and promote code re-use. Functions can accept data when called (parameters) and give data back to the calling code (return) if required. Functions should use a name that helps a developer to understand what the functions task is. To call a function, you simple use its name, followed by `()` brackets with any parameters included inside the brackets in a comma-separated list.\n",
    "\n",
    "#### Defining a function\n",
    "In the following example, a function is defined which prints all of the Fibonacci series numbers up to the given parameter value `n`. NOTE: in Python the function definition must be executed before it can be used. Comments have been added to every line of the function definition to help you to follow the algorithm and function construction."
   ]
  },
  {
   "cell_type": "code",
   "execution_count": null,
   "metadata": {},
   "outputs": [],
   "source": [
    "# create a function that prints the fibonacci series up to the given parameter value of n\n",
    "def fibonacci(n):   # def is used to define a new function; parameters are listed inside the brackets.\n",
    "    \"\"\"Print a Fibonacci series up to n.\"\"\"    # this docstring provides documentation for the help() function\n",
    "    a, b = 0, 1              # this sets a = 0 and b = 1\n",
    "    while a < n:             # loop until a is greater than or equal to n\n",
    "        print(a, end=' ')    # output the current value\n",
    "        a, b = b, a+b        # set a and b to their new values, a = b and b = a + b \n",
    "    print()                  # new line"
   ]
  },
  {
   "cell_type": "markdown",
   "metadata": {},
   "source": [
    "#### Calling a function\n",
    "A function may or may not have any parameters. If the function requires no parameters then leave the `()` brackets empty. If the function does require parameters this should be placed inside the `()` brackets in the correct order separated by `,` commas.\n",
    "\n",
    "The example below shows how to call the `fibonacci()` function with an input value of 2000. Once you have executed this code, try changing the input value to something else, say 10000."
   ]
  },
  {
   "cell_type": "code",
   "execution_count": null,
   "metadata": {},
   "outputs": [],
   "source": [
    "# Call the fibonacci function with n=2000\n",
    "fibonacci(2000)"
   ]
  },
  {
   "cell_type": "markdown",
   "metadata": {},
   "source": [
    "#### Returning values from a function\n",
    "Functions can give data back to the calling code if required. This is implement by including a `return` statement in the function code. Unlike many programming languages Python also permits multiple return values to be defined.\n",
    "\n",
    "The example below shows how to define a function that returns a single value and how to use this function to assignment the resulting value into a variable. Try changing the input parameters to see if the `add()` function works correctly."
   ]
  },
  {
   "cell_type": "code",
   "execution_count": null,
   "metadata": {},
   "outputs": [],
   "source": [
    "# define a simple function that returns the addition of two input values\n",
    "def add(a,b):\n",
    "    return a+b\n",
    "\n",
    "# call the function and assignment the result to a variable\n",
    "c = add(3,4)\n",
    "\n",
    "print(c)"
   ]
  },
  {
   "cell_type": "markdown",
   "metadata": {},
   "source": [
    "## Week 6 Preview - Numpy"
   ]
  },
  {
   "cell_type": "markdown",
   "metadata": {},
   "source": [
    "NumPy (**Numerical Python**) is an open source Python library that’s used in almost every field of science and engineering. It’s the universal standard for working with numerical data in Python, and it’s at the core of the scientific Python and PyData ecosystems. The NumPy API is used extensively in Pandas, SciPy, Matplotlib, scikit-learn, scikit-image and most other data science and scientific Python packages. In Week 6, we will focus on this library to provide you with a working knowledge of its capabilities and usefulness to your Data Science practices.\n",
    "\n",
    "The NumPy library contains multidimensional array and matrix data structures. NumPy can be used to perform a wide variety of mathematical operations on arrays. It adds powerful data structures to Python that guarantee efficient calculations with arrays and matrices and it supplies an enormous library of high-level mathematical functions that operate on these arrays and matrices.\n",
    "\n",
    "### Installing the NumPy library?\n",
    "NumPy is included with your Anaconda installtion and so there is no requirement for you to install it manually. However, the code below could be used to install this library (or any other library) if it was not already installed. The line begins with an `!`. This allows the Jupyter Notebook to execute terminal commands. Since the `pip` (Python Package Manager) application is terminal command the `!` is required to access it. The `pip` command has two parameters, `install` and `numpy`. The first parameter requests and installation of the library named in the second parameter. Try executing the code cell. You should see a message indicating that this requirement is already satisfied."
   ]
  },
  {
   "cell_type": "code",
   "execution_count": null,
   "metadata": {},
   "outputs": [],
   "source": [
    "# install a library into the Jupyter Notebook workspace\n",
    "!pip install numpy"
   ]
  },
  {
   "cell_type": "markdown",
   "metadata": {},
   "source": [
    "### Accessing the NumPy library\n",
    "In order to use the NumPy library in Python (or any other installed library) you must import it into your workspace environment. To do this you use the keyword `import` followed by the library you wish to access. In addition, it is common to provide an alias for the library to save time when using it. In the code example below the numpy library is imported and an alias np is defined to make it easier to use."
   ]
  },
  {
   "cell_type": "code",
   "execution_count": null,
   "metadata": {},
   "outputs": [],
   "source": [
    "# import the numpy library and create an alias np\n",
    "import numpy as np"
   ]
  },
  {
   "cell_type": "markdown",
   "metadata": {},
   "source": [
    "### NumPy Arrays\n",
    "NumPy gives you an enormous range of fast and efficient ways of creating arrays and manipulating numerical data inside them. But what is an array? It is like a Python list except, unlike a list, all of the elements in a NumPy array should be homogeneous, i.e. all of the same data type. This makes NumPy arrays faster and more compact than Python lists.\n",
    "#### Initialising a NumPy array\n",
    "To create and initialise a basic one-dimensional array you can use the `array()` function. You will need to include a list of initial values. The following examples creates a one dimensional array and a two dimensional array using the NumPy library aliased to `np`."
   ]
  },
  {
   "cell_type": "code",
   "execution_count": null,
   "metadata": {},
   "outputs": [],
   "source": [
    "# create a one-dimensional NumPy array and initialise its contents\n",
    "one_d = np.array([1,2,3])\n",
    "\n",
    "one_d"
   ]
  },
  {
   "cell_type": "code",
   "execution_count": null,
   "metadata": {},
   "outputs": [],
   "source": [
    "# create a two-dimensional NumPy array and initialise its contents\n",
    "two_d = np.array([[1,2,3,4],[5,6,7,8],[9,10,11,12]])\n",
    "\n",
    "two_d"
   ]
  },
  {
   "cell_type": "markdown",
   "metadata": {},
   "source": [
    "#### Accessing NumPy Array Elements\n",
    "Individual elements in the array can be accessed using an index value - just like you did with Python lists. As before, indexing starts from 0. To access an element, you simply include the index value within square brackets. Note in the two dimensional example below it is the middle element of the array that is printed (which is itself a one-dimensional array). Once you have executed the cells below, try to access the first element of the middle element of the two-dimensional array, i.e. this should result in the number `5`. "
   ]
  },
  {
   "cell_type": "code",
   "execution_count": null,
   "metadata": {},
   "outputs": [],
   "source": [
    "# print the first element of the one-dimensional array\n",
    "print(one_d[0])"
   ]
  },
  {
   "cell_type": "code",
   "execution_count": null,
   "metadata": {},
   "outputs": [],
   "source": [
    "# print the second element of the two-dimensional array\n",
    "print(two_d[1])"
   ]
  },
  {
   "cell_type": "markdown",
   "metadata": {},
   "source": [
    "## Week 7 Preview - Pandas"
   ]
  },
  {
   "cell_type": "markdown",
   "metadata": {},
   "source": [
    "In Week 7 we will focus on one of the most useful libraries available to the Data Scientist - Pandas. Pandas is a Python library providing fast, flexible, and expressive data structures designed to make working with \"relational\" or \"labeled\" data both easy and intuitive. It aims to be the fundamental high-level building block for doing practical, real-world data analysis in Python. It is the most important tool at the disposal of Data Scientists and Analysts working in Python today.\n",
    "\n",
    "Pandas is built on top of the NumPy package, meaning a lot of the structure of NumPy is used or replicated in Pandas. Data in pandas is often used for plotting functions in **matplotlib** and machine learning algorithms in **scikit-learn**. Both of which we will be looking at during this module.\n",
    "\n",
    "The two primary data structures used in pandas are `Series` (1-dimensional) and `DataFrame` (2-dimensional). The `Series` data structure is similar to the NumPy Array data structure described above, i.e. it holds a set of data items of the same data type. The `DataFrame` data structures can be thought of as a 2-dimensional table in which each column is represented by a `Series` data structure.\n",
    "\n",
    "### Accessing the Pandas library\n",
    "In order to use the Pandas library in Python, you must import it into your workspace environment as you did for NumPy above. In the code example below the Pandas library is imported and an alias pd is defined to make it easier to use."
   ]
  },
  {
   "cell_type": "code",
   "execution_count": null,
   "metadata": {},
   "outputs": [],
   "source": [
    "# import the pandas library and create an alias pd\n",
    "import pandas as pd"
   ]
  },
  {
   "cell_type": "markdown",
   "metadata": {},
   "source": [
    "### Loading data into a DataFrame\n",
    "Data Science is data driven. While is possible in Python to generate your own data from mathematical models or using random distributions, much of what you will do in your role will be to access existing data. This data may be stored in CSV files, Excel spreadsheets, SQL database or JSON data provided by an API call. There are lots of options available in Pandas for loading into a DataFrame. In the example below, a CSV datafile containing information about the Titanic passenger manifest is loaded into a DataFrame. For this code cell to execute correctly you need to ensure the `titanic.csv` file is available in the same folder as this Jupyter Notebook."
   ]
  },
  {
   "cell_type": "code",
   "execution_count": null,
   "metadata": {},
   "outputs": [],
   "source": [
    "# load in the titanic dataset into a DataFrame object\n",
    "titanic=pd.read_csv(\"titanic.csv\")\n",
    "\n",
    "titanic"
   ]
  },
  {
   "cell_type": "markdown",
   "metadata": {},
   "source": [
    "By default, the first 5 and last 5 rows of this dataset are displayed. Clearly, displaying all 891 rows of data would be unhelpful. In the code example below, the `head()` function is used to display the first 8 rows. You can do the same for the last 8 rows by using the `tail()` function. Try this."
   ]
  },
  {
   "cell_type": "code",
   "execution_count": null,
   "metadata": {},
   "outputs": [],
   "source": [
    "# display the first 8 rows of data\n",
    "titanic.head(8)"
   ]
  },
  {
   "cell_type": "markdown",
   "metadata": {},
   "source": [
    "### Accessing Column Data\n",
    "As you explore the data you might wish to select a subset of the DataFrame such as the Ages of the passengers. To do this you can use an approach that we have seen before, `[]` brackets. The code example below displays the ages of the titanic passengers. Try displaying the name column."
   ]
  },
  {
   "cell_type": "code",
   "execution_count": null,
   "metadata": {},
   "outputs": [],
   "source": [
    "# display the Age column data only\n",
    "titanic[\"Age\"]"
   ]
  },
  {
   "cell_type": "markdown",
   "metadata": {},
   "source": [
    "### Describing a DataFrame\n",
    "Pandas provides a very useful function for displaying basic statistical information about any numerical data stored in a DataFrame object. The `describe()` function shows the mean, standard deviation, min/max values, 1st, 2nd and 3rd percentiles. The code example below shows this information for the titanic dataset."
   ]
  },
  {
   "cell_type": "code",
   "execution_count": null,
   "metadata": {},
   "outputs": [],
   "source": [
    "# get a summary of numerical Titanic data \n",
    "titanic.describe()"
   ]
  },
  {
   "cell_type": "markdown",
   "metadata": {},
   "source": [
    "## Week 8 Preview - matplotlib and seaborn\n",
    "In Week 8 of the module, we will focus on how to visualise data using Python. In particular, we will look at two different plotting libraries: matplotlib and seaborn. Matplotlib was designed to provide an easy way to generate plots using built-in data structures (such as Lists) and, in particular, NumPy arrays. Seaborn is based on matplotlib and integrates closely with pandas data structures. You should become familiar with both these options so that you can make a value judgement on which one to use in a given scenario.\n",
    "\n",
    "### matplotlib\n",
    "Matplotlib is a comprehensive library for creating static, animated, and interactive visualizations in Python. In fact, for most basic use-cases you will use the pyplot API to generate plots. However, there is an object-oriented API which gives you much greater control and customisation over your plots. There are far too many possibile ways to customise your plots to include here.\n",
    "\n",
    "The example given below shows how easy it is to generate a useful plot. Note that this example uses the NumPy library to generate some random numbers. Don't worry if you don't understand how the code works yet. Read the comments and see if you can work it out. Execute the code cell. You should see a normal distribution with a mean around 110. Each time you execute the cell, 10000 new random values will be generated and the plot will look different. Try executing the cell a few times to validate this. Now try increasing the number of random values that are used. And execute it again. Is there any significant difference in the plot that is generated?"
   ]
  },
  {
   "cell_type": "code",
   "execution_count": 31,
   "metadata": {},
   "outputs": [
    {
     "data": {
      "image/png": "[encoded data removed]",
      "text/plain": [
       "<Figure size 432x288 with 1 Axes>"
      ]
     },
     "metadata": {
      "needs_background": "light"
     },
     "output_type": "display_data"
    }
   ],
   "source": [
    "# import the numpy and matplotlib.pyplot libraries\n",
    "import numpy as np\n",
    "import matplotlib.pyplot as plt\n",
    "\n",
    "# generate 10000 random values (based on normally distributed IQ scores)\n",
    "mu=110\n",
    "sigma=15\n",
    "x = mu + sigma * np.random.randn(10000)\n",
    "\n",
    "# create a histogram of the data\n",
    "n, bins, patches = plt.hist(x, 50, density=1, facecolor='g', alpha=0.75)\n",
    "\n",
    "# define plot annotations (such as axis labels, title, legend)\n",
    "plt.xlabel('Smarts')\n",
    "plt.ylabel('Probability')\n",
    "plt.title('Histogram of IQ')\n",
    "plt.text(60, .025, r'$\\mu=100,\\ \\sigma=15$')\n",
    "plt.axis([40, 160, 0, 0.03])\n",
    "\n",
    "# add a grid to the plot\n",
    "plt.grid(True)\n",
    "\n",
    "# once the plot has been constructed, show it!\n",
    "plt.show()"
   ]
  },
  {
   "cell_type": "markdown",
   "metadata": {},
   "source": [
    "### seaborn\n",
    "Seaborn is a Python data visualization library based on matplotlib. In fact, behind the scenes seaborn uses matplotlib to draw its plots. It provides a high-level interface for drawing attractive and informative statistical graphics. Its plotting functions operate on Pandas Dataframes and arrays containing whole datasets and internally perform the necessary semantic mapping and statistical aggregation to produce informative plots. Its dataset-oriented, declarative API lets you focus on what the different elements of your plots mean, rather than on the details of how to draw them. Available types of plot include scatterplots, boxplots, violinplots, heatmaps, histograms, lineplots and many more.\n",
    "\n",
    "The following example makes use of an example seaborn dataset. Firstly, we need to import the seaborn library (in this case with an alias `sns`). Next, the `load_dataset()` function is used to get access to the example dataset. This function returns a Pandas DataFrame. There are currently 18 example datasets (including the titanic dataset we used in the Pandas preview above) available. For this example, the `tips` dataset is used. This provides data about food bills, tips given and other related time/customer data. The code cell below displays this DataFrame to show you what the data looks like. "
   ]
  },
  {
   "cell_type": "code",
   "execution_count": null,
   "metadata": {},
   "outputs": [],
   "source": [
    "# Import seaborn\n",
    "import seaborn as sns\n",
    "\n",
    "# Load an example dataset (as a Pandas DataFrame)\n",
    "tips = sns.load_dataset(\"tips\")\n",
    "\n",
    "# display the tips dataset \n",
    "tips"
   ]
  },
  {
   "cell_type": "markdown",
   "metadata": {},
   "source": [
    "The plot used for this example is a scatterplot which includes a linear regression model (and its uncertainty). Again, you are not expected to understand what is being displayed or how to interpet it at this stage. This code example is simply meant to show you how powerful seaborn can be and how little code is required to produce attractive and informative plots."
   ]
  },
  {
   "cell_type": "code",
   "execution_count": null,
   "metadata": {},
   "outputs": [],
   "source": [
    "# Create a visualization\n",
    "sns.lmplot(data=tips, x=\"total_bill\", y=\"tip\", col=\"time\", hue=\"smoker\")"
   ]
  },
  {
   "cell_type": "markdown",
   "metadata": {},
   "source": [
    "## Week 9 Preview - Classes and Objects\n",
    "As a programing language Python is very flexible. It fully supports multiple programming paradigms including functional, procedural, reflective and object-orientation. Python is an object-oriented language and so in Week 9 we will focus on Python classes. In fact, up to this point in the module you have used both these programming constructs many times. However, a deeper understanding of how and why these constructs exist is vital, and will give you the knowledge and skills needed to create your own classes.\n",
    "\n",
    "A full description of object orientation is beyond this introductory preview. However, the basic premise can be explained briefly and an example of how to define a class and how to create an instance of that class (i.e. an object) will be given."
   ]
  },
  {
   "cell_type": "markdown",
   "metadata": {},
   "source": [
    "### Classes\n",
    "Classes provide a means of bundling data and functionality together. Creating a new class creates a new data type, allowing new instances (or objects) of that type to be made. Each class instance (or object) has attributes attached to it for maintaining its state. Class instances can also have functions (defined by its class) for modifying its state. We focus on functions in Week 5 of the module and so an understanding of how to define them and how they are used will be assumed in Week 9.\n",
    "\n",
    "#### Defining a class\n",
    "A full understanding of how to define a class and the various options you have when doing so are beyond this preview. However, the example below represents a basic class definition for a Person class. This class includes two attributes and five functions. You should notice the word self appears multiple times in the code. This special variable reference the current intsance of the object (i.e. itself) and needs to be included in all class functions. The code is commented to help you to follow understand how to construct a class. NOTE: the class definition must be executed before it can be used."
   ]
  },
  {
   "cell_type": "code",
   "execution_count": null,
   "metadata": {},
   "outputs": [],
   "source": [
    "# create a Person class\n",
    "class Person: # this line defines the name of the class\n",
    "    \n",
    "    def __init__(self, name, age): # defines a special function that executes when a new object is created\n",
    "        self.name = name   # defines a new attribute, name, with the initial value passed in\n",
    "        self.age = age     # defines a new attribute, age, with the initial value passed in\n",
    "    \n",
    "    def getName(self): # define a function\n",
    "        return self.name  # returns the current state of the name variable when called\n",
    "\n",
    "    def setName(self, name): # define a function\n",
    "        self.name = name  # sets the value of the instance variable name to the value of the parameter name\n",
    "    \n",
    "    def getAge(self): # define a function\n",
    "        return self.age  # returns the current state of the name variable when called\n",
    "\n",
    "    def setAge(self, age): # define a function\n",
    "        self.age = age  # sets the value of the instance variable age to the value of the parameter age"
   ]
  },
  {
   "cell_type": "markdown",
   "metadata": {},
   "source": [
    "### Objects\n",
    "\n",
    "#### Creating a new object instance\n",
    "Once a class has been defined, you can create a new instance (object) of it. You should think of the class definition as a kind of blue-print for all objects of that class. It is possible create hundreds, thousands or even millions of object instances of the same class. Each object would have its own state (i.e. for the Person class defined above this would be name and age values). For instance, imagine we were to use this class to represent all of the students studying at UWE - that would be more than 28000 students. However, every student has their own name and age and so we could represent them as 28000+ Person objects.\n",
    "\n",
    "The example below creates two new instances of the Person object defined above. Execute this code. Now try adding a 3rd Person object using your own name and age."
   ]
  },
  {
   "cell_type": "code",
   "execution_count": null,
   "metadata": {},
   "outputs": [],
   "source": [
    "# create two new instances of the Person class\n",
    "lecturer=Person(\"Dave Wyatt\", 51)   # create an instance of the Person class and assign it to the variable lecturer\n",
    "student=Person(\"Josephine Bloggs\", 24)   # create an instance of the Person class and assign it to the variable student"
   ]
  },
  {
   "cell_type": "markdown",
   "metadata": {},
   "source": [
    "#### Calling object functions\n",
    "Once you have a variable reference to an object you are able to call its functions. Class functions are primarily used for accessing an object's attributes either to read or change their values (i.e the object's state). To do this, you need to use the `.` operator. The `.` operator is placed after the variable and is followed by the class function you want to execute. Any required parameters should also be included in the `()` brackets. In fact, you have already made use of this many times throughout this Jupyter Notebook.\n",
    "\n",
    "In the example below, the `getName()` and `getAge()` functions are called on each of the instances created earlier to print a formatted string describing the person represented by the object. NOTE: the `str()` function is required to convert the integer age into a printable string. If you added a 3rd Person object in the last code cell, try adding a new line of code to output its state."
   ]
  },
  {
   "cell_type": "code",
   "execution_count": null,
   "metadata": {},
   "outputs": [],
   "source": [
    "# print the current state of two Person objects using class functions\n",
    "print(lecturer.getName() + \" is \" + str(lecturer.getAge()) + \" years old.\")\n",
    "print(student.getName() + \" is \" + str(student.getAge()) + \" years old.\")"
   ]
  },
  {
   "cell_type": "markdown",
   "metadata": {},
   "source": [
    "## Week 10 Preview - Files, SQL and No-SQL\n",
    "In Week 10 we will switch focus to consider persistent data sources such as files, SQL Databases and No-SQL Databases. You will be looking at SQL and No-SQL in much greater detail in your Data Management Fundamentals module. While it is reasonably straightforward to access these kinds of data source from inside a Jupyter Notebook, it is not feasible to do so now without extra system configuration. You will learn how to do this in Week 10 of the module.\n",
    "\n",
    "### Files\n",
    "Python provides an easy interface for reading/writing files stored on a local disk. There are many different kinds of file format such as .txt, .png, .mp4 and so on. Each file will have its own distinct internal structure. Python provides a way to open a file and read (or write) its contents. Files are assumed to be either text-based or binary. There are various functions available for each kind of file such as `open()`, `close()`, `read()`, `readline()`, `write()` and `seek()`. Many of the tools you will use in Data Anaylsis provide their own interface for reading/writing files (such as Pandas' `read_csv()`) but it is important that you are also able to read/write files directly using standard Python."
   ]
  },
  {
   "cell_type": "markdown",
   "metadata": {},
   "source": [
    "### SQL Databases\n",
    "SQL is a language designed for managing data held in relational database management system. There are many examples of RDBMS systems available today including Oracle, MySQL, SQL Server, PostgreSQL, IBM DB2 and SQLite. For this module we will be looking at the MySQL database. It is the second most common system used today and is free.\n",
    "\n",
    "In order to access data stored in an SQL Database Python requires a special driver to be installed. In Jupyter Notebooks we can use the `!pip install <driver>` command to install the required driver within the current workspace. Once installed, the driver will allow Python to make a connection to the database and execute SQL commands. These commands include creating tables, inserting data, selecting data, deleting data and updating data. "
   ]
  },
  {
   "cell_type": "markdown",
   "metadata": {},
   "source": [
    "### No-SQL Databases\n",
    "No-SQL databases use a different data structures than those used in relational databases (i.e. SQL databases), hence the name. There is no definitive standard (unlike SQL) for which data structure to use and so different databases may use different approaches. Common kinds of data structure include key-value pair, wide column, graph and document. For this module we will be looking at a popular system called MongoDB. It uses a document-based data structure called JSON. \n",
    "\n",
    "As with SQL Databases, Python requires a special driver to be installed to access data stored in a No-SQL Database (using !pip install <driver> command). Once installed, the driver will allow Python to make a connection to the database and execute commands. These commands include creating collections, inserting data, selecting data, deleting data and updating data."
   ]
  },
  {
   "cell_type": "markdown",
   "metadata": {},
   "source": [
    "## Week 11 Preview - scikit-learn\n",
    "In the final week of the module we will look at how Machine Learning can be used to support data science investigations. Machine Learning is a method of data analysis that automates analytical model building from data - the ability given to a system to learn and process data sets autonomously without human intervention. It draws on aspects of statistics and algorithms to work on the data generated and extracted from multiple resources. This is achieved through complex algorithms and data management techniques like classification, regression and clustering. Broadly speaking, algorithms use either supervised learning or unsupervised learning (although there are other hybrid learning approachs). In supervised learning, all training samples have input values and a known outcome while in unsupervised learning only the input data is available.\n",
    "\n",
    "One of the most widely used Python libaries for Machine Learning is scikit-learn. It is built on top of NumPY, SciPy and matplotlib. It includes a wide range of state-of-the-art machine learning algorithms for medium-scale supervised and unsupervised problems while maintaining an easy-to-use interface tightly integrated with the Python language. The library provides the non-specialist with access to many complex algorithms without needing to understand exactly how they work - only how to use them."
   ]
  },
  {
   "cell_type": "markdown",
   "metadata": {},
   "source": [
    "### K-Nearest Neighbour Example\n",
    "The example below has been included to demonstrate the use of the sckikit-learn library in a classification task. The task involves using a clustering algorithm called K-Nearest Neighbour to learn to predict the digits (0-9) from hand-written examples. The algorithm needs to be trained on examples of hand-written digits before it can make a prediction. A dataset of 1797 8x8 pixel images is used for this example. \n",
    "\n",
    "#### Looking at the Dataset\n",
    "The first code example below outputs the first 64 images included in the dataset. The images are pre-processed and tend to look fuzzy to the human eye BUT most of them should still be recognisible. The correct digit code is included in each image cell. Execute the code cell to view these images."
   ]
  },
  {
   "cell_type": "code",
   "execution_count": null,
   "metadata": {},
   "outputs": [],
   "source": [
    "# show the first 64 images to be used for training examples\n",
    "from sklearn import datasets\n",
    "import matplotlib.pyplot as plt\n",
    "\n",
    "#Load the digits dataset\n",
    "digits = datasets.load_digits()\n",
    "\n",
    "# create a 8 x 8 plot of a subset of the training examples \n",
    "fig = plt.figure(figsize=(8, 8))  # figure size in inches\n",
    "fig.subplots_adjust(left=0, right=1, bottom=0, top=1, hspace=0.05, wspace=0.05)\n",
    "\n",
    "# iterate over the first 64 training examples\n",
    "for i in range(64): \n",
    "    ax = fig.add_subplot(8, 8, i + 1, xticks=[], yticks=[])\n",
    "    \n",
    "    # transform the handwritten characters into feature vectors\n",
    "    ax.imshow(digits.images[i], cmap=plt.cm.binary, interpolation='nearest')\n",
    "    \n",
    "    # label each image with its target value\n",
    "    ax.text(0, 7, str(digits.target[i]))"
   ]
  },
  {
   "cell_type": "markdown",
   "metadata": {},
   "source": [
    "#### Training and Testing the Algorithm\n",
    "The second code example trains the K-Nearest Neightbour algorithm (using a subset of the dataset ~90%) and then tests its performance (using the rest of the dataset ~10%). The score given is the percentage of test cases that were correctly classified, i.e. its accuracy. Execute the code cell to see how well this algorithm performs. Now try changing the % training data to see how it affects the accuracy of the algorithm."
   ]
  },
  {
   "cell_type": "code",
   "execution_count": null,
   "metadata": {},
   "outputs": [],
   "source": [
    "# train a KNN algorithm using the 90% of the training examples \n",
    "# and then test with the remaining 10%\n",
    "from sklearn import datasets, neighbors, linear_model\n",
    "\n",
    "# load training data\n",
    "X_digits, y_digits = datasets.load_digits(return_X_y=True)\n",
    "X_digits = X_digits / X_digits.max()\n",
    "n_samples = len(X_digits)\n",
    "\n",
    "# percentage of dataset used for training, e.g. 90%\n",
    "training_percentage=0.9\n",
    "\n",
    "# create train and test data\n",
    "X_train = X_digits[:int(training_percentage * n_samples)]\n",
    "y_train = y_digits[:int(training_percentage * n_samples)]\n",
    "X_test = X_digits[int(training_percentage * n_samples):]\n",
    "y_test = y_digits[int(training_percentage * n_samples):]\n",
    "\n",
    "# create the KNN classifier\n",
    "knn = neighbors.KNeighborsClassifier()\n",
    "\n",
    "# train and test the KNN classifier\n",
    "accuracy = knn.fit(X_train, y_train).score(X_test, y_test)\n",
    "\n",
    "# output the accuracy of the ML algorithm\n",
    "print('K-NN score: %f%%' % (accuracy*100))"
   ]
  }
 ],
 "metadata": {
  "kernelspec": {
   "display_name": "Python 3",
   "language": "python",
   "name": "python3"
  },
  "language_info": {
   "codemirror_mode": {
    "name": "ipython",
    "version": 3
   },
   "file_extension": ".py",
   "mimetype": "text/x-python",
   "name": "python",
   "nbconvert_exporter": "python",
   "pygments_lexer": "ipython3",
   "version": "3.8.8"
  }
 },
 "nbformat": 4,
 "nbformat_minor": 4
}
