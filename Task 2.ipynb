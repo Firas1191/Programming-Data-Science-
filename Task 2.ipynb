{
 "cells": [
  {
   "cell_type": "markdown",
   "metadata": {},
   "source": [
    "# UFCFVQ-15-M Programming for Data Science\n",
    "# Programming Task 2\n",
    "\n",
    "## Student Id: Firas Issa Khalfan Al Muharrami 202111347"
   ]
  },
  {
   "cell_type": "markdown",
   "metadata": {},
   "source": [
    "### Requirement FR2.1 - Read CSV data from a file (with a header row) into memory "
   ]
  },
  {
   "cell_type": "code",
   "execution_count": 1,
   "metadata": {},
   "outputs": [
    {
     "name": "stdout",
     "output_type": "stream",
     "text": [
      "       Unnamed: 0  id_student gender                region  \\\n",
      "0               0       11391      M   East Anglian Region   \n",
      "1               1       28400      F              Scotland   \n",
      "2               2       31604      F     South East Region   \n",
      "3               3       32885      F  West Midlands Region   \n",
      "4               4       38053      M                 Wales   \n",
      "...           ...         ...    ...                   ...   \n",
      "26741       26741     2620947      F              Scotland   \n",
      "26742       26742     2645731      F   East Anglian Region   \n",
      "26743       26743     2648187      F          South Region   \n",
      "26744       26744     2679821      F     South East Region   \n",
      "26745       26745     2684003      F      Yorkshire Region   \n",
      "\n",
      "           highest_education age_band disability final_result  score  \n",
      "0           HE Qualification     55<=          N         Pass   82.0  \n",
      "1           HE Qualification    35-55          N         Pass   67.0  \n",
      "2      A Level or Equivalent    35-55          N         Pass   76.0  \n",
      "3         Lower Than A Level     0-35          N         Pass   55.0  \n",
      "4      A Level or Equivalent    35-55          N         Pass   68.0  \n",
      "...                      ...      ...        ...          ...    ...  \n",
      "26741  A Level or Equivalent     0-35          Y  Distinction   89.0  \n",
      "26742     Lower Than A Level    35-55          N  Distinction   89.0  \n",
      "26743  A Level or Equivalent     0-35          Y         Pass   77.0  \n",
      "26744     Lower Than A Level    35-55          N    Withdrawn   92.0  \n",
      "26745       HE Qualification    35-55          N  Distinction   83.0  \n",
      "\n",
      "[26746 rows x 9 columns]\n"
     ]
    }
   ],
   "source": [
    "# add code here\n",
    "import pandas as pd #import pandas library \n",
    "data_file1 = pd.read_csv('task2a.csv') # read csv file  \n",
    "print(data_file1) # print CSV data "
   ]
  },
  {
   "cell_type": "markdown",
   "metadata": {},
   "source": [
    "### Requirement FR2.2 - Read CSV data from a file (without a header row) into memory"
   ]
  },
  {
   "cell_type": "code",
   "execution_count": 2,
   "metadata": {},
   "outputs": [
    {
     "name": "stdout",
     "output_type": "stream",
     "text": [
      "       id_student  click_events\n",
      "0            6516        2791.0\n",
      "1            8462         656.0\n",
      "2           11391         934.0\n",
      "3           23629           NaN\n",
      "4           23698         910.0\n",
      "...           ...           ...\n",
      "26069     2698251        1511.0\n",
      "26070     2698257         758.0\n",
      "26071     2698535        4241.0\n",
      "26072     2698577         717.0\n",
      "26073     2698588         605.0\n",
      "\n",
      "[26074 rows x 2 columns]\n"
     ]
    }
   ],
   "source": [
    "# add code here\n",
    "#read the CSV Data file and Removing the headers\n",
    "data_file2 = pd.read_csv('task2b.csv', names=['id_student', 'click_events'],header=None)\n",
    "\n",
    "# Printing out the results\n",
    "print(data_file2)"
   ]
  },
  {
   "cell_type": "markdown",
   "metadata": {},
   "source": [
    "### Requirement FR2.3 - Merge the data from two Dataframes"
   ]
  },
  {
   "cell_type": "code",
   "execution_count": 12,
   "metadata": {},
   "outputs": [
    {
     "name": "stdout",
     "output_type": "stream",
     "text": [
      "       Unnamed: 0  id_student gender                region  \\\n",
      "0               0       11391      M   East Anglian Region   \n",
      "1               1       28400      F              Scotland   \n",
      "2               2       31604      F     South East Region   \n",
      "3               3       32885      F  West Midlands Region   \n",
      "4               4       38053      M                 Wales   \n",
      "...           ...         ...    ...                   ...   \n",
      "26716       26741     2620947      F              Scotland   \n",
      "26717       26742     2645731      F   East Anglian Region   \n",
      "26718       26743     2648187      F          South Region   \n",
      "26719       26744     2679821      F     South East Region   \n",
      "26720       26745     2684003      F      Yorkshire Region   \n",
      "\n",
      "           highest_education age_band disability final_result  score  \\\n",
      "0           HE Qualification     55<=          N         Pass   82.0   \n",
      "1           HE Qualification    35-55          N         Pass   67.0   \n",
      "2      A Level or Equivalent    35-55          N         Pass   76.0   \n",
      "3         Lower Than A Level     0-35          N         Pass   55.0   \n",
      "4      A Level or Equivalent    35-55          N         Pass   68.0   \n",
      "...                      ...      ...        ...          ...    ...   \n",
      "26716  A Level or Equivalent     0-35          Y  Distinction   89.0   \n",
      "26717     Lower Than A Level    35-55          N  Distinction   89.0   \n",
      "26718  A Level or Equivalent     0-35          Y         Pass   77.0   \n",
      "26719     Lower Than A Level    35-55          N    Withdrawn   92.0   \n",
      "26720       HE Qualification    35-55          N  Distinction   83.0   \n",
      "\n",
      "       click_events  \n",
      "0             934.0  \n",
      "1            1435.0  \n",
      "2            2158.0  \n",
      "3            1034.0  \n",
      "4            2445.0  \n",
      "...             ...  \n",
      "26716         476.0  \n",
      "26717         893.0  \n",
      "26718         312.0  \n",
      "26719         275.0  \n",
      "26720         616.0  \n",
      "\n",
      "[26721 rows x 10 columns]\n"
     ]
    }
   ],
   "source": [
    "# add code here\n",
    "# merging the two files with students Id that is common in both files\n",
    "merge = pd.merge(data_file1, data_file2, on=['id_student'])\n",
    "\n",
    "# Printing out the results\n",
    "print(merge)"
   ]
  },
  {
   "cell_type": "markdown",
   "metadata": {},
   "source": [
    "### Requirement FR2.4 - Remove any rows that contain missing values"
   ]
  },
  {
   "cell_type": "code",
   "execution_count": 9,
   "metadata": {},
   "outputs": [
    {
     "name": "stdout",
     "output_type": "stream",
     "text": [
      "       Unnamed: 0  id_student gender                region  \\\n",
      "0               0       11391      M   East Anglian Region   \n",
      "1               1       28400      F              Scotland   \n",
      "2               2       31604      F     South East Region   \n",
      "3               3       32885      F  West Midlands Region   \n",
      "4               4       38053      M                 Wales   \n",
      "...           ...         ...    ...                   ...   \n",
      "26716       26741     2620947      F              Scotland   \n",
      "26717       26742     2645731      F   East Anglian Region   \n",
      "26718       26743     2648187      F          South Region   \n",
      "26719       26744     2679821      F     South East Region   \n",
      "26720       26745     2684003      F      Yorkshire Region   \n",
      "\n",
      "           highest_education age_band disability final_result  score  \\\n",
      "0           HE Qualification     55<=          N         Pass   82.0   \n",
      "1           HE Qualification    35-55          N         Pass   67.0   \n",
      "2      A Level or Equivalent    35-55          N         Pass   76.0   \n",
      "3         Lower Than A Level     0-35          N         Pass   55.0   \n",
      "4      A Level or Equivalent    35-55          N         Pass   68.0   \n",
      "...                      ...      ...        ...          ...    ...   \n",
      "26716  A Level or Equivalent     0-35          Y  Distinction   89.0   \n",
      "26717     Lower Than A Level    35-55          N  Distinction   89.0   \n",
      "26718  A Level or Equivalent     0-35          Y         Pass   77.0   \n",
      "26719     Lower Than A Level    35-55          N    Withdrawn   92.0   \n",
      "26720       HE Qualification    35-55          N  Distinction   83.0   \n",
      "\n",
      "       click_events  \n",
      "0             934.0  \n",
      "1            1435.0  \n",
      "2            2158.0  \n",
      "3            1034.0  \n",
      "4            2445.0  \n",
      "...             ...  \n",
      "26716         476.0  \n",
      "26717         893.0  \n",
      "26718         312.0  \n",
      "26719         275.0  \n",
      "26720         616.0  \n",
      "\n",
      "[25332 rows x 10 columns]\n"
     ]
    }
   ],
   "source": [
    "# add code here\n",
    "no_value = merge.dropna() # dropping the rows with no values using dropna\n",
    "\n",
    "# Printing out the results\n",
    "print(no_value)"
   ]
  },
  {
   "cell_type": "markdown",
   "metadata": {},
   "source": [
    "### Requirement FR2.5 - Filter out unnecessary rows"
   ]
  },
  {
   "cell_type": "code",
   "execution_count": 14,
   "metadata": {},
   "outputs": [
    {
     "name": "stdout",
     "output_type": "stream",
     "text": [
      "       Unnamed: 0  id_student gender                region  \\\n",
      "914           914      351543      F                 Wales   \n",
      "1775         1776      551274      F         London Region   \n",
      "2486         2491      417785      F  North Western Region   \n",
      "2515         2520      439294      F  West Midlands Region   \n",
      "2537         2543      468482      F          South Region   \n",
      "...           ...         ...    ...                   ...   \n",
      "26469       26494      657327      M               Ireland   \n",
      "26511       26536      678612      F         London Region   \n",
      "26524       26549      680345      F                 Wales   \n",
      "26673       26698      696708      M                 Wales   \n",
      "26674       26699      696710      F                 Wales   \n",
      "\n",
      "           highest_education age_band disability final_result  score  \\\n",
      "914       Lower Than A Level     0-35          N         Fail   35.0   \n",
      "1775   A Level or Equivalent     0-35          N         Pass   65.0   \n",
      "2486   A Level or Equivalent    35-55          N         Fail   86.0   \n",
      "2515      Lower Than A Level     0-35          N         Fail   70.0   \n",
      "2537   A Level or Equivalent     0-35          Y    Withdrawn   56.0   \n",
      "...                      ...      ...        ...          ...    ...   \n",
      "26469     Lower Than A Level    35-55          N    Withdrawn   80.0   \n",
      "26511     Lower Than A Level    35-55          N         Fail   40.0   \n",
      "26524  A Level or Equivalent    35-55          N         Fail   30.0   \n",
      "26673     Lower Than A Level     0-35          N         Fail   60.0   \n",
      "26674  A Level or Equivalent     0-35          N         Fail   60.0   \n",
      "\n",
      "       click_events  \n",
      "914             5.0  \n",
      "1775            6.0  \n",
      "2486            2.0  \n",
      "2515            5.0  \n",
      "2537            7.0  \n",
      "...             ...  \n",
      "26469           4.0  \n",
      "26511           9.0  \n",
      "26524           5.0  \n",
      "26673           5.0  \n",
      "26674           8.0  \n",
      "\n",
      "[75 rows x 10 columns]\n"
     ]
    }
   ],
   "source": [
    "# add code here\n",
    "filter_unnecessart = merge[merge.click_events <10]\n",
    "\n",
    "# Printing out the results\n",
    "print(filter_unnecessart)"
   ]
  },
  {
   "cell_type": "markdown",
   "metadata": {},
   "source": [
    "### Requirement FR2.6 - Rename the score column"
   ]
  },
  {
   "cell_type": "code",
   "execution_count": 16,
   "metadata": {},
   "outputs": [
    {
     "name": "stdout",
     "output_type": "stream",
     "text": [
      "       Unnamed: 0  id_student gender                region  \\\n",
      "0               0       11391      M   East Anglian Region   \n",
      "1               1       28400      F              Scotland   \n",
      "2               2       31604      F     South East Region   \n",
      "3               3       32885      F  West Midlands Region   \n",
      "4               4       38053      M                 Wales   \n",
      "...           ...         ...    ...                   ...   \n",
      "26716       26741     2620947      F              Scotland   \n",
      "26717       26742     2645731      F   East Anglian Region   \n",
      "26718       26743     2648187      F          South Region   \n",
      "26719       26744     2679821      F     South East Region   \n",
      "26720       26745     2684003      F      Yorkshire Region   \n",
      "\n",
      "           highest_education age_band disability final_result  final_mark  \\\n",
      "0           HE Qualification     55<=          N         Pass        82.0   \n",
      "1           HE Qualification    35-55          N         Pass        67.0   \n",
      "2      A Level or Equivalent    35-55          N         Pass        76.0   \n",
      "3         Lower Than A Level     0-35          N         Pass        55.0   \n",
      "4      A Level or Equivalent    35-55          N         Pass        68.0   \n",
      "...                      ...      ...        ...          ...         ...   \n",
      "26716  A Level or Equivalent     0-35          Y  Distinction        89.0   \n",
      "26717     Lower Than A Level    35-55          N  Distinction        89.0   \n",
      "26718  A Level or Equivalent     0-35          Y         Pass        77.0   \n",
      "26719     Lower Than A Level    35-55          N    Withdrawn        92.0   \n",
      "26720       HE Qualification    35-55          N  Distinction        83.0   \n",
      "\n",
      "       click_events  \n",
      "0             934.0  \n",
      "1            1435.0  \n",
      "2            2158.0  \n",
      "3            1034.0  \n",
      "4            2445.0  \n",
      "...             ...  \n",
      "26716         476.0  \n",
      "26717         893.0  \n",
      "26718         312.0  \n",
      "26719         275.0  \n",
      "26720         616.0  \n",
      "\n",
      "[26721 rows x 10 columns]\n"
     ]
    }
   ],
   "source": [
    "# add code here\n",
    "renaming = merge.rename(columns={'score': 'final_mark'}) #selecting the columns \n",
    "\n",
    "# Printing out the results\n",
    "print(renaming)"
   ]
  },
  {
   "cell_type": "markdown",
   "metadata": {},
   "source": [
    "### Requirement FR2.7 - Remove unnecessary column(s)"
   ]
  },
  {
   "cell_type": "code",
   "execution_count": 17,
   "metadata": {},
   "outputs": [
    {
     "name": "stdout",
     "output_type": "stream",
     "text": [
      "       Unnamed: 0  id_student gender age_band disability  score  click_events\n",
      "0               0       11391      M     55<=          N   82.0         934.0\n",
      "1               1       28400      F    35-55          N   67.0        1435.0\n",
      "2               2       31604      F    35-55          N   76.0        2158.0\n",
      "3               3       32885      F     0-35          N   55.0        1034.0\n",
      "4               4       38053      M    35-55          N   68.0        2445.0\n",
      "...           ...         ...    ...      ...        ...    ...           ...\n",
      "26716       26741     2620947      F     0-35          Y   89.0         476.0\n",
      "26717       26742     2645731      F    35-55          N   89.0         893.0\n",
      "26718       26743     2648187      F     0-35          Y   77.0         312.0\n",
      "26719       26744     2679821      F    35-55          N   92.0         275.0\n",
      "26720       26745     2684003      F    35-55          N   83.0         616.0\n",
      "\n",
      "[26721 rows x 7 columns]\n"
     ]
    }
   ],
   "source": [
    "# add code here\n",
    "dt = merge.drop(['region', 'final_result','highest_education'], axis=1) # Droping the unnecessary columns\n",
    "\n",
    "# Printing out the results\n",
    "print(dt)"
   ]
  },
  {
   "cell_type": "markdown",
   "metadata": {},
   "source": [
    "### Requirement FR2.8 - Write the DataFrame data to a CSV file"
   ]
  },
  {
   "cell_type": "code",
   "execution_count": 18,
   "metadata": {},
   "outputs": [],
   "source": [
    "# add code here\n",
    "dt.to_csv(\"update.csv\", sep=\"\\t\",header=True) \n",
    "#sep: Specify a custom delimiter for the CSV output, the default is a comma.\n",
    "# header=False this is to make sure to upload the header of the columes\n"
   ]
  },
  {
   "cell_type": "markdown",
   "metadata": {},
   "source": [
    "### Requirement FR2.9 - Investigate the effects of age-group on attainment and engagement"
   ]
  },
  {
   "cell_type": "code",
   "execution_count": 19,
   "metadata": {},
   "outputs": [
    {
     "name": "stdout",
     "output_type": "stream",
     "text": [
      "  age_band      score\n",
      "0     0-35  72.452522\n",
      "1    35-55  74.911367\n",
      "2     55<=  77.194872\n"
     ]
    }
   ],
   "source": [
    "# add code here\n",
    "import numpy as np # importing the numpy library and stats np as veriable \n",
    "datax = pd.read_csv(\"update.csv\", delimiter=\"\\t\", index_col=False)# import the data from CSV\n",
    "# select the needed coloum to find the average engagement and final mark for each age grouping\n",
    "datax = datax.groupby('age_band').agg({'score':'mean'}).reset_index()\n",
    "\n",
    "# Printing out the results\n",
    "print(datax)"
   ]
  },
  {
   "cell_type": "markdown",
   "metadata": {},
   "source": [
    "### Requirement FR2.10 - Present the results of the age-group investigation using an appropriate visualisation"
   ]
  },
  {
   "cell_type": "code",
   "execution_count": 21,
   "metadata": {},
   "outputs": [
    {
     "data": {
      "image/png": "[encoded data removed]",
      "text/plain": [
       "<Figure size 432x288 with 1 Axes>"
      ]
     },
     "metadata": {
      "needs_background": "light"
     },
     "output_type": "display_data"
    }
   ],
   "source": [
    "# add code he\n",
    "import matplotlib.pyplot as plt\n",
    "import seaborn as sns # importing two libraries to visualize the data\n",
    "chart = sns.barplot(x = 'age_band',y = 'score',data = dt, hue='gender') # assigning the barplot chart to a veriable\n",
    "chart.axhline(70) # adding the line to bar chart \n",
    "\n",
    "# Printing out the results\n",
    "plt.show()"
   ]
  },
  {
   "cell_type": "markdown",
   "metadata": {},
   "source": [
    "### Requirement FR2.11 - Investigate the effects of engagement on attainment"
   ]
  },
  {
   "cell_type": "code",
   "execution_count": 22,
   "metadata": {},
   "outputs": [
    {
     "data": {
      "image/png": "[encoded data removed]",
      "text/plain": [
       "<Figure size 360x360 with 1 Axes>"
      ]
     },
     "metadata": {
      "needs_background": "light"
     },
     "output_type": "display_data"
    }
   ],
   "source": [
    "# add code here\n",
    "sns.catplot(x='age_band', y='score', data=dt, kind='box') # showing the effects that engagements of age band has effected the score\n",
    "\n",
    "# Printing out the results\n",
    "plt.show()"
   ]
  },
  {
   "cell_type": "markdown",
   "metadata": {},
   "source": [
    "### Requirement FR2.12 - Test the hypothesis that there is a significant effect on attainment"
   ]
  },
  {
   "cell_type": "code",
   "execution_count": 24,
   "metadata": {},
   "outputs": [
    {
     "data": {
      "image/png": "[encoded data removed]",
      "text/plain": [
       "<Figure size 432x288 with 1 Axes>"
      ]
     },
     "metadata": {
      "needs_background": "light"
     },
     "output_type": "display_data"
    }
   ],
   "source": [
    "# add code here\n",
    "datax.plot(x='age_band', y='score', marker='o', markerfacecolor=\"red\", markersize=12, linewidth=4) # showing the significant change of the score with the age band\n",
    "\n",
    "# Printing out the results\n",
    "plt.show()"
   ]
  },
  {
   "cell_type": "markdown",
   "metadata": {},
   "source": [
    "# Process Development Report for Task 2\n",
    "\n",
    "\n"
   ]
  },
  {
   "cell_type": "code",
   "execution_count": null,
   "metadata": {},
   "outputs": [],
   "source": []
  }
 ],
 "metadata": {
  "kernelspec": {
   "display_name": "Python 3",
   "language": "python",
   "name": "python3"
  },
  "language_info": {
   "codemirror_mode": {
    "name": "ipython",
    "version": 3
   },
   "file_extension": ".py",
   "mimetype": "text/x-python",
   "name": "python",
   "nbconvert_exporter": "python",
   "pygments_lexer": "ipython3",
   "version": "3.8.8"
  }
 },
 "nbformat": 4,
 "nbformat_minor": 4
}
